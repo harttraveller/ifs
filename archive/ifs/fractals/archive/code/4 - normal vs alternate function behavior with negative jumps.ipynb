{
 "cells": [
  {
   "cell_type": "markdown",
   "metadata": {},
   "source": [
    "one outcome of the normal function is that if we input a negative number for the distance, the resultant point will not lie between the two points, and will instead lie outside their bounds, as it will necessarily go the distance d between p1 and p2, but in the opposite direction of the arrow from p1 to p2."
   ]
  },
  {
   "cell_type": "code",
   "execution_count": 1,
   "metadata": {},
   "outputs": [],
   "source": [
    "def midpoint_alt(p1,p2,d):\n",
    "    assert len(p1) == len(p2), 'ERROR: The dimensions for p1 and p2 do not match'\n",
    "    pr = []\n",
    "    for i in range(len(p1)):\n",
    "        pr.append((p1[i] + p2[i])/(1/d))\n",
    "    return pr"
   ]
  },
  {
   "cell_type": "code",
   "execution_count": 2,
   "metadata": {},
   "outputs": [],
   "source": [
    "def midpoint(p1,p2,d):\n",
    "    assert len(p1) == len(p2), 'ERROR: The dimensions for p1 and p2 do not match'\n",
    "    pr = []\n",
    "    for i in range(len(p1)):\n",
    "        pr.append(((p2[i] - p1[i])*d)+p1[i])\n",
    "    return pr\n",
    "        "
   ]
  },
  {
   "cell_type": "code",
   "execution_count": null,
   "metadata": {},
   "outputs": [],
   "source": []
  }
 ],
 "metadata": {
  "kernelspec": {
   "display_name": "Python 3",
   "language": "python",
   "name": "python3"
  },
  "language_info": {
   "codemirror_mode": {
    "name": "ipython",
    "version": 3
   },
   "file_extension": ".py",
   "mimetype": "text/x-python",
   "name": "python",
   "nbconvert_exporter": "python",
   "pygments_lexer": "ipython3",
   "version": "3.8.3"
  }
 },
 "nbformat": 4,
 "nbformat_minor": 4
}
