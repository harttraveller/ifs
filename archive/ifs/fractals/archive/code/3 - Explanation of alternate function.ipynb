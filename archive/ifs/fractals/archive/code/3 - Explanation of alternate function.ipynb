{
 "cells": [
  {
   "cell_type": "code",
   "execution_count": 17,
   "metadata": {},
   "outputs": [],
   "source": [
    "import random"
   ]
  },
  {
   "cell_type": "code",
   "execution_count": 2,
   "metadata": {},
   "outputs": [],
   "source": [
    "def midpoint_alt(p1,p2,d):\n",
    "    assert len(p1) == len(p2), 'ERROR: The dimensions for p1 and p2 do not match'\n",
    "    pr = []\n",
    "    for i in range(len(p1)):\n",
    "        pr.append((p1[i] + p2[i])/(1/d))\n",
    "    return pr"
   ]
  },
  {
   "cell_type": "code",
   "execution_count": 11,
   "metadata": {},
   "outputs": [],
   "source": [
    "def midpoint(p1,p2,d):\n",
    "    assert len(p1) == len(p2), 'ERROR: The dimensions for p1 and p2 do not match'\n",
    "    pr = []\n",
    "    for i in range(len(p1)):\n",
    "        pr.append(((p2[i] - p1[i])*d)+p1[i])\n",
    "    return pr\n",
    "        "
   ]
  },
  {
   "cell_type": "code",
   "execution_count": null,
   "metadata": {},
   "outputs": [],
   "source": [
    "plt.plot"
   ]
  },
  {
   "cell_type": "code",
   "execution_count": null,
   "metadata": {},
   "outputs": [],
   "source": []
  },
  {
   "cell_type": "code",
   "execution_count": 30,
   "metadata": {},
   "outputs": [
    {
     "name": "stdout",
     "output_type": "stream",
     "text": [
      "Current point: 5\n",
      "Random vertex: 10\n",
      "Calc. Midpoint: 2.5\n",
      "\n",
      "Current point: 2.5\n",
      "Random vertex: 0\n",
      "Calc. Midpoint: 3.75\n",
      "\n",
      "Current point: 3.75\n",
      "Random vertex: 10\n",
      "Calc. Midpoint: 0.625\n",
      "\n",
      "Current point: 0.625\n",
      "Random vertex: 10\n",
      "Calc. Midpoint: -4.0625\n",
      "\n",
      "Current point: -4.0625\n",
      "Random vertex: 10\n",
      "Calc. Midpoint: -11.09375\n",
      "\n",
      "Current point: -11.09375\n",
      "Random vertex: 0\n",
      "Calc. Midpoint: -16.640625\n",
      "\n",
      "Current point: -16.640625\n",
      "Random vertex: 0\n",
      "Calc. Midpoint: -24.9609375\n",
      "\n",
      "Current point: -24.9609375\n",
      "Random vertex: 10\n",
      "Calc. Midpoint: -42.44140625\n",
      "\n",
      "Current point: -42.44140625\n",
      "Random vertex: 10\n",
      "Calc. Midpoint: -68.662109375\n",
      "\n",
      "Current point: -68.662109375\n",
      "Random vertex: 0\n",
      "Calc. Midpoint: -102.9931640625\n",
      "\n"
     ]
    }
   ],
   "source": [
    "initial_points = [[0],[10]]\n",
    "current_point = [5]\n",
    "\n",
    "for i in range(10):\n",
    "    random_vertex = random.choice(initial_points)\n",
    "    calc_midpoint = midpoint(current_point,random_vertex,-0.5)\n",
    "    print('Current point: {}\\nRandom vertex: {}\\nCalc. Midpoint: {}\\n'.format(current_point[0],\n",
    "                                                                           random_vertex[0],\n",
    "                                                                           calc_midpoint[0]))\n",
    "    current_point = calc_midpoint"
   ]
  },
  {
   "cell_type": "code",
   "execution_count": 33,
   "metadata": {},
   "outputs": [
    {
     "name": "stdout",
     "output_type": "stream",
     "text": [
      "Current point: 5\n",
      "Random vertex: 0\n",
      "Calc. Midpoint: -7.5\n",
      "\n",
      "Current point: -7.5\n",
      "Random vertex: 10\n",
      "Calc. Midpoint: -3.75\n",
      "\n",
      "Current point: -3.75\n",
      "Random vertex: 10\n",
      "Calc. Midpoint: -9.375\n",
      "\n",
      "Current point: -9.375\n",
      "Random vertex: 10\n",
      "Calc. Midpoint: -0.9375\n",
      "\n",
      "Current point: -0.9375\n",
      "Random vertex: 10\n",
      "Calc. Midpoint: -13.59375\n",
      "\n",
      "Current point: -13.59375\n",
      "Random vertex: 0\n",
      "Calc. Midpoint: 20.390625\n",
      "\n",
      "Current point: 20.390625\n",
      "Random vertex: 10\n",
      "Calc. Midpoint: -45.5859375\n",
      "\n",
      "Current point: -45.5859375\n",
      "Random vertex: 10\n",
      "Calc. Midpoint: 53.37890625\n",
      "\n",
      "Current point: 53.37890625\n",
      "Random vertex: 10\n",
      "Calc. Midpoint: -95.068359375\n",
      "\n",
      "Current point: -95.068359375\n",
      "Random vertex: 10\n",
      "Calc. Midpoint: 127.6025390625\n",
      "\n"
     ]
    }
   ],
   "source": [
    "initial_points = [[0],[10]]\n",
    "current_point = [5]\n",
    "\n",
    "for i in range(10):\n",
    "    random_vertex = random.choice(initial_points)\n",
    "    calc_midpoint = midpoint_alt(current_point,random_vertex,-1.5)\n",
    "    print('Current point: {}\\nRandom vertex: {}\\nCalc. Midpoint: {}\\n'.format(current_point[0],\n",
    "                                                                           random_vertex[0],\n",
    "                                                                           calc_midpoint[0]))\n",
    "    current_point = calc_midpoint"
   ]
  },
  {
   "cell_type": "code",
   "execution_count": null,
   "metadata": {},
   "outputs": [],
   "source": []
  },
  {
   "cell_type": "code",
   "execution_count": 13,
   "metadata": {},
   "outputs": [
    {
     "data": {
      "text/plain": [
       "[-5.0]"
      ]
     },
     "execution_count": 13,
     "metadata": {},
     "output_type": "execute_result"
    }
   ],
   "source": []
  },
  {
   "cell_type": "code",
   "execution_count": null,
   "metadata": {},
   "outputs": [],
   "source": []
  },
  {
   "cell_type": "code",
   "execution_count": null,
   "metadata": {},
   "outputs": [],
   "source": []
  },
  {
   "cell_type": "code",
   "execution_count": 8,
   "metadata": {
    "scrolled": true
   },
   "outputs": [
    {
     "data": {
      "text/plain": [
       "[-15.0]"
      ]
     },
     "execution_count": 8,
     "metadata": {},
     "output_type": "execute_result"
    }
   ],
   "source": [
    "midpoint_alt([5],[10],-1)"
   ]
  },
  {
   "cell_type": "code",
   "execution_count": null,
   "metadata": {},
   "outputs": [],
   "source": []
  },
  {
   "cell_type": "code",
   "execution_count": null,
   "metadata": {},
   "outputs": [],
   "source": []
  },
  {
   "cell_type": "code",
   "execution_count": null,
   "metadata": {},
   "outputs": [],
   "source": []
  }
 ],
 "metadata": {
  "kernelspec": {
   "display_name": "Python 3",
   "language": "python",
   "name": "python3"
  },
  "language_info": {
   "codemirror_mode": {
    "name": "ipython",
    "version": 3
   },
   "file_extension": ".py",
   "mimetype": "text/x-python",
   "name": "python",
   "nbconvert_exporter": "python",
   "pygments_lexer": "ipython3",
   "version": "3.8.3"
  }
 },
 "nbformat": 4,
 "nbformat_minor": 4
}
