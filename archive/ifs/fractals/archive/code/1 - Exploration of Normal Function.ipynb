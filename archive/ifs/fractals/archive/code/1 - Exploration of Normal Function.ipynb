{
 "cells": [
  {
   "cell_type": "markdown",
   "metadata": {},
   "source": [
    "The normal function takes two n-dimensional points, p1 and p2, and a distance parameter d and finds the midpoint between p1 and p2 that is the preportional distance as determined by d, where d represents the demical percentage of distance from p1 to p2.\n",
    "\n",
    "For instance, if we took two one dimensional points:\n",
    "- p1 = 0\n",
    "- p2 = 10\n",
    "- d = 0.5 (half way between the two points)\n",
    "\n",
    "the function would output 5\n",
    "\n",
    "likewise if we had:\n",
    "- p1 = 1\n",
    "- p2 = 10\n",
    "- d = 0.5\n",
    "\n",
    "the function would output 5.5\n",
    "\n",
    "we can derive this function, as we want the preportioinal distance between p1 and p2, by subtracting p1 from p2, multiplying that by the percent distance, and adding p1\n",
    "\n",
    "We can extrapolate the function to n dimension by performing this operation for each dimension component of the point."
   ]
  },
  {
   "cell_type": "code",
   "execution_count": 40,
   "metadata": {},
   "outputs": [],
   "source": [
    "import numpy as np"
   ]
  },
  {
   "cell_type": "code",
   "execution_count": 45,
   "metadata": {},
   "outputs": [
    {
     "data": {
      "text/plain": [
       "array([1, 0])"
      ]
     },
     "execution_count": 45,
     "metadata": {},
     "output_type": "execute_result"
    }
   ],
   "source": [
    "p1 = np.array([1,0])\n",
    "p1"
   ]
  },
  {
   "cell_type": "code",
   "execution_count": 51,
   "metadata": {},
   "outputs": [
    {
     "data": {
      "text/plain": [
       "(2,)"
      ]
     },
     "execution_count": 51,
     "metadata": {},
     "output_type": "execute_result"
    }
   ],
   "source": [
    "p1.shape"
   ]
  },
  {
   "cell_type": "code",
   "execution_count": 46,
   "metadata": {},
   "outputs": [
    {
     "data": {
      "text/plain": [
       "array([5, 5])"
      ]
     },
     "execution_count": 46,
     "metadata": {},
     "output_type": "execute_result"
    }
   ],
   "source": [
    "p2 = np.array([5,5])\n",
    "p2"
   ]
  },
  {
   "cell_type": "code",
   "execution_count": 49,
   "metadata": {},
   "outputs": [
    {
     "data": {
      "text/plain": [
       "array([3. , 2.5])"
      ]
     },
     "execution_count": 49,
     "metadata": {},
     "output_type": "execute_result"
    }
   ],
   "source": [
    "(p2 - p1) * 0.5 + p1"
   ]
  },
  {
   "cell_type": "code",
   "execution_count": 50,
   "metadata": {},
   "outputs": [
    {
     "data": {
      "text/plain": [
       "[3.0, 2.5]"
      ]
     },
     "execution_count": 50,
     "metadata": {},
     "output_type": "execute_result"
    }
   ],
   "source": [
    "midpoint(list(p1),list(p2),0.5)"
   ]
  },
  {
   "cell_type": "code",
   "execution_count": 53,
   "metadata": {},
   "outputs": [],
   "source": [
    "def midpoint(p1,p2,d):\n",
    "    return (p2-p1)*d+p1"
   ]
  },
  {
   "cell_type": "code",
   "execution_count": null,
   "metadata": {},
   "outputs": [],
   "source": []
  },
  {
   "cell_type": "code",
   "execution_count": null,
   "metadata": {},
   "outputs": [],
   "source": []
  },
  {
   "cell_type": "code",
   "execution_count": 33,
   "metadata": {},
   "outputs": [],
   "source": [
    "def midpoint(p1,p2,d):\n",
    "    assert len(p1) == len(p2), 'ERROR: The dimensions for p1 and p2 do not match'\n",
    "    pr = []\n",
    "    for i in range(len(p1)):\n",
    "        pr.append(((p2[i] - p1[i])*d)+p1[i])\n",
    "    return pr\n",
    "        "
   ]
  }
 ],
 "metadata": {
  "kernelspec": {
   "display_name": "Python 3",
   "language": "python",
   "name": "python3"
  },
  "language_info": {
   "codemirror_mode": {
    "name": "ipython",
    "version": 3
   },
   "file_extension": ".py",
   "mimetype": "text/x-python",
   "name": "python",
   "nbconvert_exporter": "python",
   "pygments_lexer": "ipython3",
   "version": "3.8.3"
  }
 },
 "nbformat": 4,
 "nbformat_minor": 4
}
