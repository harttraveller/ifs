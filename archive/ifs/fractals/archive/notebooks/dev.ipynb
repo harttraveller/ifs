{
 "cells": [
  {
   "cell_type": "markdown",
   "metadata": {},
   "source": [
    "There are 4 main \"parameters\" we can vary to search for emergent fractals. These are:\n",
    "\n",
    "- The midpoint function chosen\n",
    "- The number of points\n",
    "- The number of dimensions the points are placed in\n",
    "- The ruleset applied to vertex selection (switching x and y would apply to ruleset)"
   ]
  },
  {
   "cell_type": "markdown",
   "metadata": {},
   "source": [
    "Function idea: place the two points on the edges of a circle maximally distant from one another. The distance is the distance along the curve from one to the next count clock wise.\n",
    "\n",
    "Show how certain seemingly different combinations converge on the same forms."
   ]
  },
  {
   "cell_type": "code",
   "execution_count": null,
   "metadata": {},
   "outputs": [],
   "source": []
  },
  {
   "cell_type": "code",
   "execution_count": 2,
   "metadata": {},
   "outputs": [],
   "source": [
    "def euclidean(A,B,d):\n",
    "    return ((B-A)*d)+A"
   ]
  },
  {
   "cell_type": "code",
   "execution_count": 3,
   "metadata": {},
   "outputs": [],
   "source": [
    "import numpy as np\n",
    "import matplotlib.pyplot as plt\n",
    "%matplotlib inline"
   ]
  },
  {
   "cell_type": "code",
   "execution_count": 77,
   "metadata": {},
   "outputs": [],
   "source": [
    "A = np.array([0,0])\n",
    "B = np.array([0,1])\n",
    "low_d = 0\n",
    "high_d = 1\n",
    "n_points = 10"
   ]
  },
  {
   "cell_type": "code",
   "execution_count": 78,
   "metadata": {},
   "outputs": [
    {
     "data": {
      "image/png": "[encoded data removed]",
      "text/plain": [
       "<Figure size 576x576 with 1 Axes>"
      ]
     },
     "metadata": {
      "needs_background": "light"
     },
     "output_type": "display_data"
    }
   ],
   "source": [
    "plt.figure(figsize=(8,8))\n",
    "plt.axhline(0,c='black',alpha=0.2,linestyle='--')\n",
    "plt.axvline(0,c='black',alpha=0.2,linestyle='--')\n",
    "color_gradient = np.linspace(0,1,n_points)\n",
    "for i,d in enumerate(np.linspace(low_d,high_d,n_points)):\n",
    "    m = euclidean(A,B,d)\n",
    "    plt.scatter(m[0],m[1],color=(1*(1-color_gradient[i]),0,1*color_gradient[i]))\n",
    "plt.scatter(A[0],A[1],s=100,c='r')\n",
    "plt.scatter(B[0],B[1],s=100,c='b')\n",
    "plt.xlim(-1.1,1.1)\n",
    "plt.ylim(-1.1,1.1)\n",
    "plt.show()"
   ]
  },
  {
   "cell_type": "markdown",
   "metadata": {},
   "source": [
    "- horizontal in each quadrant, spanning each quadrant\n",
    "- vertical in each quadrant, spanning each quadrant\n",
    "- positive and negative slope in each quadrant, spanning each quadrant\n",
    "\n",
    "- A origin, B spins on unit circle\n",
    "- A spins on unit circle in every combination of quadrants with b\n",
    "- A spins in circle in each quadrant\n",
    "\n",
    "generate experimental input points"
   ]
  },
  {
   "cell_type": "markdown",
   "metadata": {},
   "source": [
    "Segment 1"
   ]
  },
  {
   "cell_type": "code",
   "execution_count": null,
   "metadata": {},
   "outputs": [],
   "source": []
  },
  {
   "cell_type": "code",
   "execution_count": null,
   "metadata": {},
   "outputs": [],
   "source": []
  },
  {
   "cell_type": "code",
   "execution_count": null,
   "metadata": {},
   "outputs": [],
   "source": []
  },
  {
   "cell_type": "code",
   "execution_count": null,
   "metadata": {},
   "outputs": [],
   "source": [
    "[]"
   ]
  },
  {
   "cell_type": "code",
   "execution_count": null,
   "metadata": {},
   "outputs": [],
   "source": []
  },
  {
   "cell_type": "code",
   "execution_count": 6,
   "metadata": {},
   "outputs": [
    {
     "data": {
      "text/plain": [
       "array([6., 6.])"
      ]
     },
     "execution_count": 6,
     "metadata": {},
     "output_type": "execute_result"
    }
   ],
   "source": []
  },
  {
   "cell_type": "code",
   "execution_count": null,
   "metadata": {},
   "outputs": [],
   "source": []
  },
  {
   "cell_type": "code",
   "execution_count": null,
   "metadata": {},
   "outputs": [],
   "source": [
    "firstx = np.linspace()"
   ]
  }
 ],
 "metadata": {
  "kernelspec": {
   "display_name": "Python 3",
   "language": "python",
   "name": "python3"
  },
  "language_info": {
   "codemirror_mode": {
    "name": "ipython",
    "version": 3
   },
   "file_extension": ".py",
   "mimetype": "text/x-python",
   "name": "python",
   "nbconvert_exporter": "python",
   "pygments_lexer": "ipython3",
   "version": "3.8.3"
  }
 },
 "nbformat": 4,
 "nbformat_minor": 4
}
