{
 "cells": [
  {
   "cell_type": "code",
   "execution_count": 1,
   "metadata": {},
   "outputs": [],
   "source": [
    "from ifs.generators.midpoint import EquationGenerator"
   ]
  },
  {
   "cell_type": "code",
   "execution_count": 3,
   "metadata": {},
   "outputs": [],
   "source": [
    "params= [\"A\", \"B\", \"x\", \"y\"]\n",
    "bias = [0.4,0.4,0.1,0.1]\n",
    "layers = [8,4,1]\n",
    "n = 5"
   ]
  },
  {
   "cell_type": "code",
   "execution_count": 4,
   "metadata": {},
   "outputs": [],
   "source": [
    "eg = EquationGenerator(params, bias, layers, n)"
   ]
  },
  {
   "cell_type": "code",
   "execution_count": 5,
   "metadata": {},
   "outputs": [],
   "source": [
    "equations = eg.run()"
   ]
  },
  {
   "cell_type": "code",
   "execution_count": 6,
   "metadata": {},
   "outputs": [
    {
     "data": {
      "text/plain": [
       "['(A, B, x, y) = ((log((cos(B)), (cos(B)))) * ((cos(B)) * (cos(B))))',\n",
       " '(A, B, x, y) = (((cos(B)) ** (cos(B))) - ((sin(A)) + (B ** B)))',\n",
       " '(A, B, x, y) = (((B - A) - (A - A)) + ((A / A) * (A - A)))',\n",
       " '(A, B, x, y) = (((log(B, B)) - (B + B)) ** ((B ** A) ** (B + B)))',\n",
       " '(A, B, x, y) = (log((tan((B * x))), (log((y - A), (A + B)))))']"
      ]
     },
     "execution_count": 6,
     "metadata": {},
     "output_type": "execute_result"
    }
   ],
   "source": [
    "equations"
   ]
  },
  {
   "cell_type": "code",
   "execution_count": null,
   "metadata": {},
   "outputs": [],
   "source": []
  }
 ],
 "metadata": {
  "kernelspec": {
   "display_name": "Python 3.10.4 ('ifs')",
   "language": "python",
   "name": "python3"
  },
  "language_info": {
   "codemirror_mode": {
    "name": "ipython",
    "version": 3
   },
   "file_extension": ".py",
   "mimetype": "text/x-python",
   "name": "python",
   "nbconvert_exporter": "python",
   "pygments_lexer": "ipython3",
   "version": "3.10.4"
  },
  "orig_nbformat": 4,
  "vscode": {
   "interpreter": {
    "hash": "5e765bfdd2496766266d836cd24253376d29bf7cfa52cffa84bf515a4d6aa60e"
   }
  }
 },
 "nbformat": 4,
 "nbformat_minor": 2
}
