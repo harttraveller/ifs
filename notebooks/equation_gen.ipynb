{
 "cells": [
  {
   "cell_type": "code",
   "execution_count": 15,
   "metadata": {},
   "outputs": [],
   "source": [
    "from ifs.generators.midpoint import EquationGenerator\n",
    "import json"
   ]
  },
  {
   "cell_type": "code",
   "execution_count": 16,
   "metadata": {},
   "outputs": [],
   "source": [
    "params= [\"A\", \"B\", \"x\", \"y\"]\n",
    "bias = [0.3,0.3,0.2,0.2]\n",
    "layers = [4,2,1]\n",
    "n = 100_000"
   ]
  },
  {
   "cell_type": "code",
   "execution_count": 17,
   "metadata": {},
   "outputs": [],
   "source": [
    "eg = EquationGenerator(params, bias, layers, n)"
   ]
  },
  {
   "cell_type": "code",
   "execution_count": 18,
   "metadata": {},
   "outputs": [],
   "source": [
    "equations = eg.run()"
   ]
  },
  {
   "cell_type": "code",
   "execution_count": 14,
   "metadata": {},
   "outputs": [],
   "source": []
  },
  {
   "cell_type": "code",
   "execution_count": 13,
   "metadata": {},
   "outputs": [
    {
     "data": {
      "text/plain": [
       "['f(A, B, x, y) = ((tan((B ** x))) - ((cos(A)) - (cos(A))))',\n",
       " 'f(A, B, x, y) = (((log(B, B)) / (B / A)) / ((log(B, B)) / (B / A)))',\n",
       " 'f(A, B, x, y) = (((A + B) / (A - A)) - ((A + B) / (A - A)))',\n",
       " 'f(A, B, x, y) = (tan(((sin(y)) / (sin(y)))))',\n",
       " 'f(A, B, x, y) = (log(((B / x) - (B / x)), ((log(A, B)) + (log(A, B)))))']"
      ]
     },
     "execution_count": 13,
     "metadata": {},
     "output_type": "execute_result"
    }
   ],
   "source": [
    "equations"
   ]
  },
  {
   "cell_type": "code",
   "execution_count": null,
   "metadata": {},
   "outputs": [],
   "source": []
  }
 ],
 "metadata": {
  "kernelspec": {
   "display_name": "Python 3.10.4 ('ifs')",
   "language": "python",
   "name": "python3"
  },
  "language_info": {
   "codemirror_mode": {
    "name": "ipython",
    "version": 3
   },
   "file_extension": ".py",
   "mimetype": "text/x-python",
   "name": "python",
   "nbconvert_exporter": "python",
   "pygments_lexer": "ipython3",
   "version": "3.10.4"
  },
  "orig_nbformat": 4,
  "vscode": {
   "interpreter": {
    "hash": "5e765bfdd2496766266d836cd24253376d29bf7cfa52cffa84bf515a4d6aa60e"
   }
  }
 },
 "nbformat": 4,
 "nbformat_minor": 2
}
