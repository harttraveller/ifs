{
 "cells": [
  {
   "cell_type": "code",
   "execution_count": 1,
   "metadata": {},
   "outputs": [],
   "source": [
    "from ifs.generators.midpoint import EquationGenerator\n",
    "import json"
   ]
  },
  {
   "cell_type": "code",
   "execution_count": 2,
   "metadata": {},
   "outputs": [],
   "source": [
    "params= [\"A\", \"B\", \"x\", \"y\"]\n",
    "bias = [0.3,0.3,0.2,0.2]\n",
    "layers = [4,2,1]\n",
    "n = 100_000"
   ]
  },
  {
   "cell_type": "code",
   "execution_count": 3,
   "metadata": {},
   "outputs": [],
   "source": [
    "eg = EquationGenerator(params, bias, layers, n)"
   ]
  },
  {
   "cell_type": "code",
   "execution_count": 4,
   "metadata": {},
   "outputs": [
    {
     "name": "stderr",
     "output_type": "stream",
     "text": [
      "100%|██████████| 100000/100000 [00:12<00:00, 8235.13it/s]\n"
     ]
    }
   ],
   "source": [
    "equations = eg.run()"
   ]
  },
  {
   "cell_type": "code",
   "execution_count": 7,
   "metadata": {},
   "outputs": [],
   "source": [
    "equation_file = {\n",
    "    \"params\": params,\n",
    "    \"bias\": bias,\n",
    "    \"layers\": layers,\n",
    "    \"n\": n,\n",
    "    \"equations\": equations\n",
    "}"
   ]
  },
  {
   "cell_type": "code",
   "execution_count": 8,
   "metadata": {},
   "outputs": [],
   "source": [
    "with open(\"../data/equations/ABxy_421_100k.json\", \"w\") as json_file:\n",
    "    json.dump(equation_file, json_file)\n",
    "json_file.close()"
   ]
  },
  {
   "cell_type": "code",
   "execution_count": null,
   "metadata": {},
   "outputs": [],
   "source": []
  }
 ],
 "metadata": {
  "kernelspec": {
   "display_name": "Python 3.10.4 ('ifs')",
   "language": "python",
   "name": "python3"
  },
  "language_info": {
   "codemirror_mode": {
    "name": "ipython",
    "version": 3
   },
   "file_extension": ".py",
   "mimetype": "text/x-python",
   "name": "python",
   "nbconvert_exporter": "python",
   "pygments_lexer": "ipython3",
   "version": "3.10.4"
  },
  "orig_nbformat": 4,
  "vscode": {
   "interpreter": {
    "hash": "5e765bfdd2496766266d836cd24253376d29bf7cfa52cffa84bf515a4d6aa60e"
   }
  }
 },
 "nbformat": 4,
 "nbformat_minor": 2
}
